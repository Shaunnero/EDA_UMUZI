{
  "nbformat": 4,
  "nbformat_minor": 0,
  "metadata": {
    "colab": {
      "provenance": [],
      "authorship_tag": "ABX9TyNunXgqEj4lgI7+AkZ4Dblo",
      "include_colab_link": true
    },
    "kernelspec": {
      "name": "python3",
      "display_name": "Python 3"
    },
    "language_info": {
      "name": "python"
    }
  },
  "cells": [
    {
      "cell_type": "markdown",
      "metadata": {
        "id": "view-in-github",
        "colab_type": "text"
      },
      "source": [
        "<a href=\"https://colab.research.google.com/github/Shaunnero/EDA_UMUZI/blob/main/Project_2_Part_4_(Core).ipynb\" target=\"_parent\"><img src=\"https://colab.research.google.com/assets/colab-badge.svg\" alt=\"Open In Colab\"/></a>"
      ]
    },
    {
      "cell_type": "code",
      "source": [
        "from google.colab import drive\n",
        "drive.mount('/content/drive')"
      ],
      "metadata": {
        "colab": {
          "base_uri": "https://localhost:8080/"
        },
        "id": "-n2KNEZvHDwk",
        "outputId": "1344b1eb-524a-490c-c28a-755aecd389a5"
      },
      "execution_count": 213,
      "outputs": [
        {
          "output_type": "stream",
          "name": "stdout",
          "text": [
            "Drive already mounted at /content/drive; to attempt to forcibly remount, call drive.mount(\"/content/drive\", force_remount=True).\n"
          ]
        }
      ]
    },
    {
      "cell_type": "code",
      "source": [
        "import matplotlib.pyplot as plt\n",
        "import seaborn as sns\n",
        "import pandas as pd\n",
        "import numpy as np\n",
        "import plotly.express as px\n",
        "from sklearn.model_selection import train_test_split, GridSearchCV\n",
        "from sklearn.neighbors import KNeighborsRegressor\n",
        "from sklearn.metrics import mean_squared_error, r2_score, mean_absolute_error\n",
        "from sklearn.preprocessing import OneHotEncoder\n",
        "from sklearn.linear_model import LinearRegression\n",
        "from sklearn.tree import DecisionTreeRegressor\n",
        "from sklearn.ensemble import RandomForestRegressor\n",
        "from sklearn.impute import SimpleImputer\n",
        "from sklearn.preprocessing import StandardScaler\n",
        "from sklearn.compose import ColumnTransformer\n",
        "from sklearn.pipeline import Pipeline\n",
        "from sklearn.linear_model import LogisticRegression\n",
        "from sklearn.ensemble import RandomForestClassifier\n",
        "from sklearn.metrics import accuracy_score, precision_score, recall_score, f1_score\n",
        "from sklearn.ensemble import RandomForestRegressor, GradientBoostingRegressor\n",
        "from sklearn.decomposition import PCA\n",
        "from sklearn.pipeline import make_pipeline"
      ],
      "metadata": {
        "id": "92MtJwCzHjYF"
      },
      "execution_count": 266,
      "outputs": []
    },
    {
      "cell_type": "markdown",
      "source": [
        "#First choice: Spanish Wine Quality Dataset"
      ],
      "metadata": {
        "id": "fmeaNb9uHuDP"
      }
    },
    {
      "cell_type": "markdown",
      "source": [
        "# Spanish Wine Quality Dataset\n",
        "\n",
        "## Source of Data\n",
        "\n",
        "- [Kaggle - Spanish Wine Quality Dataset](https://www.kaggle.com/datasets/fedesoriano/spanish-wine-quality-dataset)\n",
        "\n",
        "## Brief Description of Data\n",
        "\n",
        "This dataset pertains to red variants of Spanish wines. It provides insights into various popularity and description metrics and their impact on wine quality. The dataset is suitable for both classification and regression tasks. The quality classes are ordered and unbalanced, spanning a range from almost 5 to 4 points. The objective is to predict either the quality of wine or its prices using the available data.\n",
        "\n",
        "## Dataset Details\n",
        "\n",
        "- **Target:** `rating`\n",
        "- **One Row Represents:** A product (specifically, a red variant of Spanish wine)\n",
        "- **Problem Type:** Regression\n",
        "- **Number of Features:** 5\n",
        "- **Number of Rows:** 7500\n",
        "\n",
        "## Challenges and Considerations\n",
        "\n",
        "Several challenges might arise during data cleaning, exploration, and modeling:\n",
        "\n",
        "- **Missing Data:** The dataset contains missing values in the 'year', 'type', 'body', and 'acidity' columns. Handling missing data is crucial to maintain the quality of analysis and modeling. Decisions regarding imputation or removal of missing values need to be made.\n",
        "\n",
        "- **Categorical Data:** Categorical columns like 'winery', 'wine', 'country', and 'region' need numerical encoding. Dealing with high cardinality categorical columns (e.g., 'winery', 'wine') presents challenges.\n",
        "\n",
        "- **Data Exploration:** Gaining insights into the distribution of numerical features such as 'rating', 'num_reviews', 'price', 'body', and 'acidity' is essential to identify potential outliers or skewed distributions that can impact model performance.\n",
        "\n",
        "- **Feature Engineering:** Depending on modeling objectives, feature engineering may be required to generate meaningful new features from existing ones. For instance, 'age' based on the 'year' column or features related to wine characteristics.\n",
        "\n",
        "- **Modeling Challenges:** Selecting an appropriate modeling technique based on data nature and objectives is critical. Different algorithms may perform differently based on the data. Handling categorical variables and addressing multicollinearity (if present) are key considerations.\n",
        "\n",
        "- **Imbalanced Data:** If the distribution of classes in the target variable (e.g., wine subscription) is imbalanced, it could affect model performance. Techniques like oversampling, undersampling, or specialized evaluation metrics may be necessary.\n",
        "\n",
        "- **Hyperparameter Tuning:** If machine learning algorithms are employed, hyperparameter tuning is essential to achieve optimal model performance. Tuning requires careful selection of hyperparameter values and can be time-consuming.\n",
        "\n",
        "- **Interpreting Results:** After modeling, interpreting results and understanding the significance of features within the context of wine quality prediction can be complex.\n",
        "\n",
        "In summary, successfully cleaning, exploring, and modeling this dataset requires thoughtful consideration of these challenges to ensure accurate and dependable analysis and predictions.\n"
      ],
      "metadata": {
        "id": "uShUNej1IIiT"
      }
    },
    {
      "cell_type": "code",
      "source": [
        "df = pd.read_csv('/content/drive/MyDrive/CodingDojo/02-MachineLearning/Week08/Data/wines_SPA.csv')\n",
        "df.head()"
      ],
      "metadata": {
        "colab": {
          "base_uri": "https://localhost:8080/",
          "height": 206
        },
        "id": "uyhlSPAOHdLy",
        "outputId": "462a4c3d-a5d0-44b9-ab98-6f08591d1d2e"
      },
      "execution_count": 215,
      "outputs": [
        {
          "output_type": "execute_result",
          "data": {
            "text/plain": [
              "          winery           wine  year  rating  num_reviews country  \\\n",
              "0  Teso La Monja          Tinto  2013     4.9           58  Espana   \n",
              "1         Artadi  Vina El Pison  2018     4.9           31  Espana   \n",
              "2   Vega Sicilia          Unico  2009     4.8         1793  Espana   \n",
              "3   Vega Sicilia          Unico  1999     4.8         1705  Espana   \n",
              "4   Vega Sicilia          Unico  1996     4.8         1309  Espana   \n",
              "\n",
              "             region   price                  type  body  acidity  \n",
              "0              Toro  995.00              Toro Red   5.0      3.0  \n",
              "1    Vino de Espana  313.50           Tempranillo   4.0      2.0  \n",
              "2  Ribera del Duero  324.95  Ribera Del Duero Red   5.0      3.0  \n",
              "3  Ribera del Duero  692.96  Ribera Del Duero Red   5.0      3.0  \n",
              "4  Ribera del Duero  778.06  Ribera Del Duero Red   5.0      3.0  "
            ],
            "text/html": [
              "\n",
              "  <div id=\"df-97177116-cf5c-4515-a77c-be315d7d9c7f\" class=\"colab-df-container\">\n",
              "    <div>\n",
              "<style scoped>\n",
              "    .dataframe tbody tr th:only-of-type {\n",
              "        vertical-align: middle;\n",
              "    }\n",
              "\n",
              "    .dataframe tbody tr th {\n",
              "        vertical-align: top;\n",
              "    }\n",
              "\n",
              "    .dataframe thead th {\n",
              "        text-align: right;\n",
              "    }\n",
              "</style>\n",
              "<table border=\"1\" class=\"dataframe\">\n",
              "  <thead>\n",
              "    <tr style=\"text-align: right;\">\n",
              "      <th></th>\n",
              "      <th>winery</th>\n",
              "      <th>wine</th>\n",
              "      <th>year</th>\n",
              "      <th>rating</th>\n",
              "      <th>num_reviews</th>\n",
              "      <th>country</th>\n",
              "      <th>region</th>\n",
              "      <th>price</th>\n",
              "      <th>type</th>\n",
              "      <th>body</th>\n",
              "      <th>acidity</th>\n",
              "    </tr>\n",
              "  </thead>\n",
              "  <tbody>\n",
              "    <tr>\n",
              "      <th>0</th>\n",
              "      <td>Teso La Monja</td>\n",
              "      <td>Tinto</td>\n",
              "      <td>2013</td>\n",
              "      <td>4.9</td>\n",
              "      <td>58</td>\n",
              "      <td>Espana</td>\n",
              "      <td>Toro</td>\n",
              "      <td>995.00</td>\n",
              "      <td>Toro Red</td>\n",
              "      <td>5.0</td>\n",
              "      <td>3.0</td>\n",
              "    </tr>\n",
              "    <tr>\n",
              "      <th>1</th>\n",
              "      <td>Artadi</td>\n",
              "      <td>Vina El Pison</td>\n",
              "      <td>2018</td>\n",
              "      <td>4.9</td>\n",
              "      <td>31</td>\n",
              "      <td>Espana</td>\n",
              "      <td>Vino de Espana</td>\n",
              "      <td>313.50</td>\n",
              "      <td>Tempranillo</td>\n",
              "      <td>4.0</td>\n",
              "      <td>2.0</td>\n",
              "    </tr>\n",
              "    <tr>\n",
              "      <th>2</th>\n",
              "      <td>Vega Sicilia</td>\n",
              "      <td>Unico</td>\n",
              "      <td>2009</td>\n",
              "      <td>4.8</td>\n",
              "      <td>1793</td>\n",
              "      <td>Espana</td>\n",
              "      <td>Ribera del Duero</td>\n",
              "      <td>324.95</td>\n",
              "      <td>Ribera Del Duero Red</td>\n",
              "      <td>5.0</td>\n",
              "      <td>3.0</td>\n",
              "    </tr>\n",
              "    <tr>\n",
              "      <th>3</th>\n",
              "      <td>Vega Sicilia</td>\n",
              "      <td>Unico</td>\n",
              "      <td>1999</td>\n",
              "      <td>4.8</td>\n",
              "      <td>1705</td>\n",
              "      <td>Espana</td>\n",
              "      <td>Ribera del Duero</td>\n",
              "      <td>692.96</td>\n",
              "      <td>Ribera Del Duero Red</td>\n",
              "      <td>5.0</td>\n",
              "      <td>3.0</td>\n",
              "    </tr>\n",
              "    <tr>\n",
              "      <th>4</th>\n",
              "      <td>Vega Sicilia</td>\n",
              "      <td>Unico</td>\n",
              "      <td>1996</td>\n",
              "      <td>4.8</td>\n",
              "      <td>1309</td>\n",
              "      <td>Espana</td>\n",
              "      <td>Ribera del Duero</td>\n",
              "      <td>778.06</td>\n",
              "      <td>Ribera Del Duero Red</td>\n",
              "      <td>5.0</td>\n",
              "      <td>3.0</td>\n",
              "    </tr>\n",
              "  </tbody>\n",
              "</table>\n",
              "</div>\n",
              "    <div class=\"colab-df-buttons\">\n",
              "\n",
              "  <div class=\"colab-df-container\">\n",
              "    <button class=\"colab-df-convert\" onclick=\"convertToInteractive('df-97177116-cf5c-4515-a77c-be315d7d9c7f')\"\n",
              "            title=\"Convert this dataframe to an interactive table.\"\n",
              "            style=\"display:none;\">\n",
              "\n",
              "  <svg xmlns=\"http://www.w3.org/2000/svg\" height=\"24px\" viewBox=\"0 -960 960 960\">\n",
              "    <path d=\"M120-120v-720h720v720H120Zm60-500h600v-160H180v160Zm220 220h160v-160H400v160Zm0 220h160v-160H400v160ZM180-400h160v-160H180v160Zm440 0h160v-160H620v160ZM180-180h160v-160H180v160Zm440 0h160v-160H620v160Z\"/>\n",
              "  </svg>\n",
              "    </button>\n",
              "\n",
              "  <style>\n",
              "    .colab-df-container {\n",
              "      display:flex;\n",
              "      gap: 12px;\n",
              "    }\n",
              "\n",
              "    .colab-df-convert {\n",
              "      background-color: #E8F0FE;\n",
              "      border: none;\n",
              "      border-radius: 50%;\n",
              "      cursor: pointer;\n",
              "      display: none;\n",
              "      fill: #1967D2;\n",
              "      height: 32px;\n",
              "      padding: 0 0 0 0;\n",
              "      width: 32px;\n",
              "    }\n",
              "\n",
              "    .colab-df-convert:hover {\n",
              "      background-color: #E2EBFA;\n",
              "      box-shadow: 0px 1px 2px rgba(60, 64, 67, 0.3), 0px 1px 3px 1px rgba(60, 64, 67, 0.15);\n",
              "      fill: #174EA6;\n",
              "    }\n",
              "\n",
              "    .colab-df-buttons div {\n",
              "      margin-bottom: 4px;\n",
              "    }\n",
              "\n",
              "    [theme=dark] .colab-df-convert {\n",
              "      background-color: #3B4455;\n",
              "      fill: #D2E3FC;\n",
              "    }\n",
              "\n",
              "    [theme=dark] .colab-df-convert:hover {\n",
              "      background-color: #434B5C;\n",
              "      box-shadow: 0px 1px 3px 1px rgba(0, 0, 0, 0.15);\n",
              "      filter: drop-shadow(0px 1px 2px rgba(0, 0, 0, 0.3));\n",
              "      fill: #FFFFFF;\n",
              "    }\n",
              "  </style>\n",
              "\n",
              "    <script>\n",
              "      const buttonEl =\n",
              "        document.querySelector('#df-97177116-cf5c-4515-a77c-be315d7d9c7f button.colab-df-convert');\n",
              "      buttonEl.style.display =\n",
              "        google.colab.kernel.accessAllowed ? 'block' : 'none';\n",
              "\n",
              "      async function convertToInteractive(key) {\n",
              "        const element = document.querySelector('#df-97177116-cf5c-4515-a77c-be315d7d9c7f');\n",
              "        const dataTable =\n",
              "          await google.colab.kernel.invokeFunction('convertToInteractive',\n",
              "                                                    [key], {});\n",
              "        if (!dataTable) return;\n",
              "\n",
              "        const docLinkHtml = 'Like what you see? Visit the ' +\n",
              "          '<a target=\"_blank\" href=https://colab.research.google.com/notebooks/data_table.ipynb>data table notebook</a>'\n",
              "          + ' to learn more about interactive tables.';\n",
              "        element.innerHTML = '';\n",
              "        dataTable['output_type'] = 'display_data';\n",
              "        await google.colab.output.renderOutput(dataTable, element);\n",
              "        const docLink = document.createElement('div');\n",
              "        docLink.innerHTML = docLinkHtml;\n",
              "        element.appendChild(docLink);\n",
              "      }\n",
              "    </script>\n",
              "  </div>\n",
              "\n",
              "\n",
              "<div id=\"df-f56685b4-b928-43b1-bcbe-2e1ff6335374\">\n",
              "  <button class=\"colab-df-quickchart\" onclick=\"quickchart('df-f56685b4-b928-43b1-bcbe-2e1ff6335374')\"\n",
              "            title=\"Suggest charts.\"\n",
              "            style=\"display:none;\">\n",
              "\n",
              "<svg xmlns=\"http://www.w3.org/2000/svg\" height=\"24px\"viewBox=\"0 0 24 24\"\n",
              "     width=\"24px\">\n",
              "    <g>\n",
              "        <path d=\"M19 3H5c-1.1 0-2 .9-2 2v14c0 1.1.9 2 2 2h14c1.1 0 2-.9 2-2V5c0-1.1-.9-2-2-2zM9 17H7v-7h2v7zm4 0h-2V7h2v10zm4 0h-2v-4h2v4z\"/>\n",
              "    </g>\n",
              "</svg>\n",
              "  </button>\n",
              "\n",
              "<style>\n",
              "  .colab-df-quickchart {\n",
              "      --bg-color: #E8F0FE;\n",
              "      --fill-color: #1967D2;\n",
              "      --hover-bg-color: #E2EBFA;\n",
              "      --hover-fill-color: #174EA6;\n",
              "      --disabled-fill-color: #AAA;\n",
              "      --disabled-bg-color: #DDD;\n",
              "  }\n",
              "\n",
              "  [theme=dark] .colab-df-quickchart {\n",
              "      --bg-color: #3B4455;\n",
              "      --fill-color: #D2E3FC;\n",
              "      --hover-bg-color: #434B5C;\n",
              "      --hover-fill-color: #FFFFFF;\n",
              "      --disabled-bg-color: #3B4455;\n",
              "      --disabled-fill-color: #666;\n",
              "  }\n",
              "\n",
              "  .colab-df-quickchart {\n",
              "    background-color: var(--bg-color);\n",
              "    border: none;\n",
              "    border-radius: 50%;\n",
              "    cursor: pointer;\n",
              "    display: none;\n",
              "    fill: var(--fill-color);\n",
              "    height: 32px;\n",
              "    padding: 0;\n",
              "    width: 32px;\n",
              "  }\n",
              "\n",
              "  .colab-df-quickchart:hover {\n",
              "    background-color: var(--hover-bg-color);\n",
              "    box-shadow: 0 1px 2px rgba(60, 64, 67, 0.3), 0 1px 3px 1px rgba(60, 64, 67, 0.15);\n",
              "    fill: var(--button-hover-fill-color);\n",
              "  }\n",
              "\n",
              "  .colab-df-quickchart-complete:disabled,\n",
              "  .colab-df-quickchart-complete:disabled:hover {\n",
              "    background-color: var(--disabled-bg-color);\n",
              "    fill: var(--disabled-fill-color);\n",
              "    box-shadow: none;\n",
              "  }\n",
              "\n",
              "  .colab-df-spinner {\n",
              "    border: 2px solid var(--fill-color);\n",
              "    border-color: transparent;\n",
              "    border-bottom-color: var(--fill-color);\n",
              "    animation:\n",
              "      spin 1s steps(1) infinite;\n",
              "  }\n",
              "\n",
              "  @keyframes spin {\n",
              "    0% {\n",
              "      border-color: transparent;\n",
              "      border-bottom-color: var(--fill-color);\n",
              "      border-left-color: var(--fill-color);\n",
              "    }\n",
              "    20% {\n",
              "      border-color: transparent;\n",
              "      border-left-color: var(--fill-color);\n",
              "      border-top-color: var(--fill-color);\n",
              "    }\n",
              "    30% {\n",
              "      border-color: transparent;\n",
              "      border-left-color: var(--fill-color);\n",
              "      border-top-color: var(--fill-color);\n",
              "      border-right-color: var(--fill-color);\n",
              "    }\n",
              "    40% {\n",
              "      border-color: transparent;\n",
              "      border-right-color: var(--fill-color);\n",
              "      border-top-color: var(--fill-color);\n",
              "    }\n",
              "    60% {\n",
              "      border-color: transparent;\n",
              "      border-right-color: var(--fill-color);\n",
              "    }\n",
              "    80% {\n",
              "      border-color: transparent;\n",
              "      border-right-color: var(--fill-color);\n",
              "      border-bottom-color: var(--fill-color);\n",
              "    }\n",
              "    90% {\n",
              "      border-color: transparent;\n",
              "      border-bottom-color: var(--fill-color);\n",
              "    }\n",
              "  }\n",
              "</style>\n",
              "\n",
              "  <script>\n",
              "    async function quickchart(key) {\n",
              "      const quickchartButtonEl =\n",
              "        document.querySelector('#' + key + ' button');\n",
              "      quickchartButtonEl.disabled = true;  // To prevent multiple clicks.\n",
              "      quickchartButtonEl.classList.add('colab-df-spinner');\n",
              "      try {\n",
              "        const charts = await google.colab.kernel.invokeFunction(\n",
              "            'suggestCharts', [key], {});\n",
              "      } catch (error) {\n",
              "        console.error('Error during call to suggestCharts:', error);\n",
              "      }\n",
              "      quickchartButtonEl.classList.remove('colab-df-spinner');\n",
              "      quickchartButtonEl.classList.add('colab-df-quickchart-complete');\n",
              "    }\n",
              "    (() => {\n",
              "      let quickchartButtonEl =\n",
              "        document.querySelector('#df-f56685b4-b928-43b1-bcbe-2e1ff6335374 button');\n",
              "      quickchartButtonEl.style.display =\n",
              "        google.colab.kernel.accessAllowed ? 'block' : 'none';\n",
              "    })();\n",
              "  </script>\n",
              "</div>\n",
              "    </div>\n",
              "  </div>\n"
            ]
          },
          "metadata": {},
          "execution_count": 215
        }
      ]
    },
    {
      "cell_type": "code",
      "source": [
        "df['rating'].value_counts()"
      ],
      "metadata": {
        "colab": {
          "base_uri": "https://localhost:8080/"
        },
        "id": "Mp9MhsPeIdtg",
        "outputId": "b0c86b53-e14a-4203-f13a-f5e13f75cbce"
      },
      "execution_count": 216,
      "outputs": [
        {
          "output_type": "execute_result",
          "data": {
            "text/plain": [
              "4.2    5679\n",
              "4.3     707\n",
              "4.4     484\n",
              "4.5     281\n",
              "4.6     191\n",
              "4.7     112\n",
              "4.8      44\n",
              "4.9       2\n",
              "Name: rating, dtype: int64"
            ]
          },
          "metadata": {},
          "execution_count": 216
        }
      ]
    },
    {
      "cell_type": "code",
      "source": [
        "df.info()"
      ],
      "metadata": {
        "colab": {
          "base_uri": "https://localhost:8080/"
        },
        "id": "Qr2sqDEyImFD",
        "outputId": "34f213c8-0752-4f40-afce-e63800d2d704"
      },
      "execution_count": 217,
      "outputs": [
        {
          "output_type": "stream",
          "name": "stdout",
          "text": [
            "<class 'pandas.core.frame.DataFrame'>\n",
            "RangeIndex: 7500 entries, 0 to 7499\n",
            "Data columns (total 11 columns):\n",
            " #   Column       Non-Null Count  Dtype  \n",
            "---  ------       --------------  -----  \n",
            " 0   winery       7500 non-null   object \n",
            " 1   wine         7500 non-null   object \n",
            " 2   year         7498 non-null   object \n",
            " 3   rating       7500 non-null   float64\n",
            " 4   num_reviews  7500 non-null   int64  \n",
            " 5   country      7500 non-null   object \n",
            " 6   region       7500 non-null   object \n",
            " 7   price        7500 non-null   float64\n",
            " 8   type         6955 non-null   object \n",
            " 9   body         6331 non-null   float64\n",
            " 10  acidity      6331 non-null   float64\n",
            "dtypes: float64(4), int64(1), object(6)\n",
            "memory usage: 644.7+ KB\n"
          ]
        }
      ]
    },
    {
      "cell_type": "code",
      "source": [
        "#Makeing A Copy\n",
        "ml_df = df.copy()"
      ],
      "metadata": {
        "id": "l9e2xaHeSG-b"
      },
      "execution_count": 218,
      "outputs": []
    },
    {
      "cell_type": "code",
      "source": [
        "# drop unused columns\n",
        "cols2drop = ['num_reviews', 'country']\n",
        "ml_df = ml_df.drop(cols2drop, axis=1)"
      ],
      "metadata": {
        "id": "MN86VoLIaAJy"
      },
      "execution_count": 219,
      "outputs": []
    },
    {
      "cell_type": "code",
      "source": [
        "#ml_df.isna().sum()\n",
        "ml_df.isna().sum()"
      ],
      "metadata": {
        "id": "2FlN6mVHpmfJ",
        "outputId": "e3f5b874-42b0-43c5-aa36-6cd390bd123a",
        "colab": {
          "base_uri": "https://localhost:8080/"
        }
      },
      "execution_count": 220,
      "outputs": [
        {
          "output_type": "execute_result",
          "data": {
            "text/plain": [
              "winery        0\n",
              "wine          0\n",
              "year          2\n",
              "rating        0\n",
              "region        0\n",
              "price         0\n",
              "type        545\n",
              "body       1169\n",
              "acidity    1169\n",
              "dtype: int64"
            ]
          },
          "metadata": {},
          "execution_count": 220
        }
      ]
    },
    {
      "cell_type": "code",
      "source": [
        "#check inconsistancies and duplicates\n",
        "inconsistencies = ml_df.isnull().sum()\n",
        "print(\"\\nInconsistencies (Missing Values):\")\n",
        "print(inconsistencies)\n",
        "\n",
        "duplicates = ml_df[ml_df.duplicated()]\n",
        "print(\"Duplicates:\")\n",
        "print(duplicates)"
      ],
      "metadata": {
        "id": "RLi4oJuPSLsH",
        "outputId": "c27527bc-c1b2-410b-fbe1-274d6fd418d9",
        "colab": {
          "base_uri": "https://localhost:8080/"
        }
      },
      "execution_count": 221,
      "outputs": [
        {
          "output_type": "stream",
          "name": "stdout",
          "text": [
            "\n",
            "Inconsistencies (Missing Values):\n",
            "winery        0\n",
            "wine          0\n",
            "year          2\n",
            "rating        0\n",
            "region        0\n",
            "price         0\n",
            "type        545\n",
            "body       1169\n",
            "acidity    1169\n",
            "dtype: int64\n",
            "Duplicates:\n",
            "                    winery             wine  year  rating            region  \\\n",
            "1800        Bodega Tameran       Marmajuelo  2020     4.3      Gran Canaria   \n",
            "2036        Ramon do Casar       Treixadura  2020     4.2           Ribeiro   \n",
            "2039              Binigrau           Nounat  2020     4.2          Mallorca   \n",
            "2050          La Vicalanda          Reserva  2015     4.2             Rioja   \n",
            "2051       Enrique Mendoza       Santa Rosa  2017     4.2          Alicante   \n",
            "...                    ...              ...   ...     ...               ...   \n",
            "7495               Contino          Reserva  2016     4.2             Rioja   \n",
            "7496  Conreria d'Scala Dei    Les Brugueres  2018     4.2          Priorato   \n",
            "7497           Mustiguillo  Finca Terrerazo  2017     4.2      El Terrerazo   \n",
            "7498           Matarromera     Gran Reserva  2011     4.2  Ribera del Duero   \n",
            "7499              Sei Solo         Preludio  2016     4.2  Ribera del Duero   \n",
            "\n",
            "      price                  type  body  acidity  \n",
            "1800  29.75                   NaN   NaN      NaN  \n",
            "2036  11.95                   NaN   NaN      NaN  \n",
            "2039  19.90                   NaN   NaN      NaN  \n",
            "2050  17.50             Rioja Red   4.0      3.0  \n",
            "2051  18.90                   Red   4.0      3.0  \n",
            "...     ...                   ...   ...      ...  \n",
            "7495  19.98             Rioja Red   4.0      3.0  \n",
            "7496  16.76           Priorat Red   4.0      3.0  \n",
            "7497  24.45                   Red   4.0      3.0  \n",
            "7498  64.50  Ribera Del Duero Red   5.0      3.0  \n",
            "7499  31.63  Ribera Del Duero Red   5.0      3.0  \n",
            "\n",
            "[5452 rows x 9 columns]\n"
          ]
        }
      ]
    },
    {
      "cell_type": "code",
      "source": [
        "# Check for duplicate rows in the DataFrame\n",
        "duplicates = ml_df.duplicated()\n",
        "\n",
        "# Display the duplicate rows, if any\n",
        "if not duplicates.empty:\n",
        "    print(\"Duplicate Rows:\")\n",
        "    print(duplicates)\n",
        "else:\n",
        "    print(\"No duplicate rows found.\")\n"
      ],
      "metadata": {
        "id": "I05kHAaESqOJ",
        "outputId": "321e0167-40c5-4ea5-e29c-3f53ab89828c",
        "colab": {
          "base_uri": "https://localhost:8080/"
        }
      },
      "execution_count": 222,
      "outputs": [
        {
          "output_type": "stream",
          "name": "stdout",
          "text": [
            "Duplicate Rows:\n",
            "0       False\n",
            "1       False\n",
            "2       False\n",
            "3       False\n",
            "4       False\n",
            "        ...  \n",
            "7495     True\n",
            "7496     True\n",
            "7497     True\n",
            "7498     True\n",
            "7499     True\n",
            "Length: 7500, dtype: bool\n"
          ]
        }
      ]
    },
    {
      "cell_type": "code",
      "source": [
        "# Remove duplicate rows from the DataFrame\n",
        "ml_df_cleaned = ml_df.drop_duplicates()"
      ],
      "metadata": {
        "id": "AHgunHyvTBZu"
      },
      "execution_count": 223,
      "outputs": []
    },
    {
      "cell_type": "code",
      "source": [
        "#Box Plot and Distribution Plot for Dependent variable weight\n",
        "plt.figure(figsize=(20,3))\n",
        "\n",
        "plt.subplot(1,2,1)\n",
        "sns.boxplot(ml_df.rating,color='red')\n",
        "plt.title('Box Plot of Rating')\n",
        "\n",
        "plt.subplot(1,2,2)\n",
        "sns.distplot(a=ml_df.rating,color='green')\n",
        "plt.title('Distribution Plot of Rating')\n",
        "plt.show()"
      ],
      "metadata": {
        "id": "XIEJnmVXj428",
        "outputId": "50a59383-88fb-4b55-a8a3-6b0a1992a152",
        "colab": {
          "base_uri": "https://localhost:8080/",
          "height": 559
        }
      },
      "execution_count": 224,
      "outputs": [
        {
          "output_type": "stream",
          "name": "stderr",
          "text": [
            "<ipython-input-224-0b91ea0f5754>:9: UserWarning:\n",
            "\n",
            "\n",
            "\n",
            "`distplot` is a deprecated function and will be removed in seaborn v0.14.0.\n",
            "\n",
            "Please adapt your code to use either `displot` (a figure-level function with\n",
            "similar flexibility) or `histplot` (an axes-level function for histograms).\n",
            "\n",
            "For a guide to updating your code to use the new functions, please see\n",
            "https://gist.github.com/mwaskom/de44147ed2974457ad6372750bbe5751\n",
            "\n",
            "\n"
          ]
        },
        {
          "output_type": "display_data",
          "data": {
            "text/plain": [
              "<Figure size 2000x300 with 2 Axes>"
            ],
            "image/png": "[encoded data removed]"
          },
          "metadata": {}
        }
      ]
    },
    {
      "cell_type": "code",
      "source": [
        "# Define the numeric columns you want to analyze\n",
        "numeric_columns = ['rating', 'price', 'body', 'acidity']\n",
        "\n",
        "# Set up a subplot grid\n",
        "fig, axes = plt.subplots(nrows=1, ncols=len(numeric_columns), figsize=(15, 5))\n",
        "\n",
        "# Iterate through numeric columns and create boxplots\n",
        "for i, col in enumerate(numeric_columns):\n",
        "    sns.boxplot(x=ml_df[col], ax=axes[i], color='red')\n",
        "    axes[i].set_title(f'Box Plot of {col}')\n",
        "    axes[i].set_xlabel(col)\n",
        "\n",
        "# Show the plots\n",
        "plt.tight_layout()\n",
        "plt.show()"
      ],
      "metadata": {
        "id": "BzqtyQBmob_c",
        "outputId": "db106a32-72bc-41bf-f954-da6a9c4694fc",
        "colab": {
          "base_uri": "https://localhost:8080/",
          "height": 507
        }
      },
      "execution_count": 225,
      "outputs": [
        {
          "output_type": "display_data",
          "data": {
            "text/plain": [
              "<Figure size 1500x500 with 4 Axes>"
            ],
            "image/png": "[encoded data removed]"
          },
          "metadata": {}
        }
      ]
    },
    {
      "cell_type": "markdown",
      "source": [
        "**Visualization 1: Rating Distribution (Bar Chart)**\n",
        "\n",
        "**Insight:** This bar chart illustrates the distribution of product ratings. The x-axis represents different rating values, ranging from 4.2 to 4.9, and the y-axis represents the count of products with each rating. The highest bar is at 4.5, indicating that a significant number of products have received a rating of 4.5. The chart also shows that most products fall within the range of 4.3 to 4.7, indicating that they are generally well-rated. However, there are fewer products with extreme ratings, such as 4.2 or 4.9, suggesting that such ratings are less common.\n",
        "\n",
        "**Visualization 2: Price vs. Body (Scatter Plot)**\n",
        "\n",
        "**Insight:** This scatter plot reveals the relationship between product price and body. Each point on the plot represents a product, with its price on the x-axis and body on the y-axis. The plot shows that there is no strong linear relationship between price and body size. The points are scattered across the plot, suggesting that products with various body sizes can have a wide range of prices. This suggests that price is not solely determined by body size, and other factors may be influencing product pricing decisions.\n",
        "\n",
        "These visualizations provide clear and straightforward insights into the distribution of ratings and the relationship between price and body size in the dataset. They are designed to be easily understood by a non-technical audience, such as a 6th grader, within a few seconds.\n"
      ],
      "metadata": {
        "id": "IczccNAVkptu"
      }
    },
    {
      "cell_type": "code",
      "source": [
        "#Identifying any moderate or strong correlations between your target\n",
        "plt.figure(figsize=(10, 10))\n",
        "sns.heatmap(ml_df.corr(), annot=True, cmap=\"mako\", annot_kws={\"size\":10})"
      ],
      "metadata": {
        "id": "fvyJYLU3beZD",
        "outputId": "8ff61dc0-5417-4326-f318-e1b723be8bf5",
        "colab": {
          "base_uri": "https://localhost:8080/",
          "height": 923
        }
      },
      "execution_count": 226,
      "outputs": [
        {
          "output_type": "stream",
          "name": "stderr",
          "text": [
            "<ipython-input-226-37a62fdcbbc9>:3: FutureWarning:\n",
            "\n",
            "The default value of numeric_only in DataFrame.corr is deprecated. In a future version, it will default to False. Select only valid columns or specify the value of numeric_only to silence this warning.\n",
            "\n"
          ]
        },
        {
          "output_type": "execute_result",
          "data": {
            "text/plain": [
              "<Axes: >"
            ]
          },
          "metadata": {},
          "execution_count": 226
        },
        {
          "output_type": "display_data",
          "data": {
            "text/plain": [
              "<Figure size 1000x1000 with 2 Axes>"
            ],
            "image/png": "[encoded data removed]"
          },
          "metadata": {}
        }
      ]
    },
    {
      "cell_type": "code",
      "source": [
        "#Ensure data types match the data types listed in the data dictionary.\n",
        "for col in ml_df:\n",
        "    print(ml_df[col].value_counts(ascending=False), '\\n\\n\\n')"
      ],
      "metadata": {
        "id": "i0lvIvx2e2Yw",
        "outputId": "54ac2ca4-d029-40ba-bfed-4eed38bdc70f",
        "colab": {
          "base_uri": "https://localhost:8080/"
        }
      },
      "execution_count": 227,
      "outputs": [
        {
          "output_type": "stream",
          "name": "stdout",
          "text": [
            "Contino                                 457\n",
            "Artadi                                  261\n",
            "La Rioja Alta                           254\n",
            "Sierra Cantabria                        237\n",
            "Matarromera                             232\n",
            "                                       ... \n",
            "Briego                                    1\n",
            "Guillem Carol - Cellers Carol Valles      1\n",
            "Particular                                1\n",
            "Bodegas Asenjo & Manso                    1\n",
            "Joan Simo                                 1\n",
            "Name: winery, Length: 480, dtype: int64 \n",
            "\n",
            "\n",
            "\n",
            "Reserva                         467\n",
            "Gran Reserva                    458\n",
            "Rioja Reserva                   240\n",
            "El Viejo                        224\n",
            "Corimbo I                       223\n",
            "                               ... \n",
            "4 Varietales Coleccion Rioja      1\n",
            "Noble                             1\n",
            "Primordium                        1\n",
            "Finca Helena                      1\n",
            "Capricho Crianza                  1\n",
            "Name: wine, Length: 847, dtype: int64 \n",
            "\n",
            "\n",
            "\n",
            "2011    1190\n",
            "2016     897\n",
            "2015     860\n",
            "2018     850\n",
            "2017     731\n",
            "        ... \n",
            "1953       1\n",
            "1972       1\n",
            "1974       1\n",
            "1931       1\n",
            "1925       1\n",
            "Name: year, Length: 71, dtype: int64 \n",
            "\n",
            "\n",
            "\n",
            "4.2    5679\n",
            "4.3     707\n",
            "4.4     484\n",
            "4.5     281\n",
            "4.6     191\n",
            "4.7     112\n",
            "4.8      44\n",
            "4.9       2\n",
            "Name: rating, dtype: int64 \n",
            "\n",
            "\n",
            "\n",
            "Rioja                              2440\n",
            "Ribera del Duero                   1413\n",
            "Priorato                            686\n",
            "Toro                                300\n",
            "Vino de Espana                      263\n",
            "                                   ... \n",
            "Ribera del Gallego-Cinco Villas       1\n",
            "Monterrei                             1\n",
            "Jerez Cream                           1\n",
            "Condado de Huelva                     1\n",
            "Abona                                 1\n",
            "Name: region, Length: 76, dtype: int64 \n",
            "\n",
            "\n",
            "\n",
            "37.90     228\n",
            "18.90     226\n",
            "45.00     225\n",
            "19.90     224\n",
            "17.90     223\n",
            "         ... \n",
            "47.52       1\n",
            "919.60      1\n",
            "94.20       1\n",
            "39.35       1\n",
            "995.00      1\n",
            "Name: price, Length: 1292, dtype: int64 \n",
            "\n",
            "\n",
            "\n",
            "Rioja Red               2357\n",
            "Ribera Del Duero Red    1407\n",
            "Red                      864\n",
            "Priorat Red              674\n",
            "Toro Red                 296\n",
            "Tempranillo              291\n",
            "Sherry                   274\n",
            "Albarino                 252\n",
            "Mencia                   235\n",
            "Rioja White               92\n",
            "Pedro Ximenez             35\n",
            "Grenache                  35\n",
            "Cava                      33\n",
            "Verdejo                   27\n",
            "Monastrell                18\n",
            "Montsant Red              17\n",
            "Syrah                     15\n",
            "Chardonnay                13\n",
            "Cabernet Sauvignon        11\n",
            "Sparkling                  5\n",
            "Sauvignon Blanc            4\n",
            "Name: type, dtype: int64 \n",
            "\n",
            "\n",
            "\n",
            "4.0    4120\n",
            "5.0    1624\n",
            "3.0     553\n",
            "2.0      34\n",
            "Name: body, dtype: int64 \n",
            "\n",
            "\n",
            "\n",
            "3.0    6028\n",
            "2.0     268\n",
            "1.0      35\n",
            "Name: acidity, dtype: int64 \n",
            "\n",
            "\n",
            "\n"
          ]
        }
      ]
    },
    {
      "cell_type": "code",
      "source": [
        "# Define features (X) and target variable (y)\n",
        "X = ml_df.drop(columns=['rating'])\n",
        "y = ml_df['rating']\n",
        "\n",
        "# Split the data into training and testing sets (e.g., 80% train, 20% test)\n",
        "X_train, X_test, y_train, y_test = train_test_split(X, y, test_size=0.2, random_state=42)\n"
      ],
      "metadata": {
        "id": "AzwQvczChHUA"
      },
      "execution_count": 228,
      "outputs": []
    },
    {
      "cell_type": "code",
      "source": [
        "ml_df.info()"
      ],
      "metadata": {
        "id": "2Vvb5Mimtsjn",
        "outputId": "3bff6baa-6d06-4a90-96a1-e72eed6bd562",
        "colab": {
          "base_uri": "https://localhost:8080/"
        }
      },
      "execution_count": 229,
      "outputs": [
        {
          "output_type": "stream",
          "name": "stdout",
          "text": [
            "<class 'pandas.core.frame.DataFrame'>\n",
            "RangeIndex: 7500 entries, 0 to 7499\n",
            "Data columns (total 9 columns):\n",
            " #   Column   Non-Null Count  Dtype  \n",
            "---  ------   --------------  -----  \n",
            " 0   winery   7500 non-null   object \n",
            " 1   wine     7500 non-null   object \n",
            " 2   year     7498 non-null   object \n",
            " 3   rating   7500 non-null   float64\n",
            " 4   region   7500 non-null   object \n",
            " 5   price    7500 non-null   float64\n",
            " 6   type     6955 non-null   object \n",
            " 7   body     6331 non-null   float64\n",
            " 8   acidity  6331 non-null   float64\n",
            "dtypes: float64(4), object(5)\n",
            "memory usage: 527.5+ KB\n"
          ]
        }
      ]
    },
    {
      "cell_type": "code",
      "source": [
        "# Impute missing values in numeric columns with mean\n",
        "numeric_columns = ['rating','price', 'body', 'acidity']\n",
        "ml_df[numeric_columns] = ml_df[numeric_columns].fillna(ml_df[numeric_columns].mean())"
      ],
      "metadata": {
        "id": "bx9_6vkiallk"
      },
      "execution_count": 230,
      "outputs": []
    },
    {
      "cell_type": "code",
      "source": [
        "# Impute missing values in categorical columns with mode\n",
        "categorical_columns = ['winery','wine', 'year','region','type']\n",
        "ml_df[categorical_columns] = ml_df[categorical_columns].fillna(ml_df[categorical_columns].mode().iloc[0])"
      ],
      "metadata": {
        "id": "yPvtcb8LbHDS"
      },
      "execution_count": 231,
      "outputs": []
    },
    {
      "cell_type": "code",
      "source": [
        "# Create SimpleImputer for numeric columns (replace with mean)\n",
        "numeric_imputer = SimpleImputer(strategy='mean')\n",
        "ml_df[numeric_columns] = numeric_imputer.fit_transform(ml_df[numeric_columns])\n",
        "\n",
        "# Create SimpleImputer for categorical columns (replace with most frequent)\n",
        "categorical_imputer = SimpleImputer(strategy='most_frequent')\n",
        "ml_df[categorical_columns] = categorical_imputer.fit_transform(ml_df[categorical_columns])\n"
      ],
      "metadata": {
        "id": "3RKKsmL7xBw6"
      },
      "execution_count": 232,
      "outputs": []
    },
    {
      "cell_type": "code",
      "source": [
        "ml_df.describe()"
      ],
      "metadata": {
        "id": "GOGWZSvG3tR2",
        "outputId": "d7a2ee2e-04ac-48eb-9d3a-7fb8ea0efe85",
        "colab": {
          "base_uri": "https://localhost:8080/",
          "height": 300
        }
      },
      "execution_count": 233,
      "outputs": [
        {
          "output_type": "execute_result",
          "data": {
            "text/plain": [
              "            rating        price         body      acidity\n",
              "count  7500.000000  7500.000000  7500.000000  7500.000000\n",
              "mean      4.254933    60.095822     4.158427     2.946612\n",
              "std       0.118029   150.356676     0.535958     0.228037\n",
              "min       4.200000     4.990000     2.000000     1.000000\n",
              "25%       4.200000    18.900000     4.000000     3.000000\n",
              "50%       4.200000    28.530000     4.000000     3.000000\n",
              "75%       4.200000    51.350000     4.158427     3.000000\n",
              "max       4.900000  3119.080000     5.000000     3.000000"
            ],
            "text/html": [
              "\n",
              "  <div id=\"df-1065de6e-02e0-4d3e-9114-a1640049f053\" class=\"colab-df-container\">\n",
              "    <div>\n",
              "<style scoped>\n",
              "    .dataframe tbody tr th:only-of-type {\n",
              "        vertical-align: middle;\n",
              "    }\n",
              "\n",
              "    .dataframe tbody tr th {\n",
              "        vertical-align: top;\n",
              "    }\n",
              "\n",
              "    .dataframe thead th {\n",
              "        text-align: right;\n",
              "    }\n",
              "</style>\n",
              "<table border=\"1\" class=\"dataframe\">\n",
              "  <thead>\n",
              "    <tr style=\"text-align: right;\">\n",
              "      <th></th>\n",
              "      <th>rating</th>\n",
              "      <th>price</th>\n",
              "      <th>body</th>\n",
              "      <th>acidity</th>\n",
              "    </tr>\n",
              "  </thead>\n",
              "  <tbody>\n",
              "    <tr>\n",
              "      <th>count</th>\n",
              "      <td>7500.000000</td>\n",
              "      <td>7500.000000</td>\n",
              "      <td>7500.000000</td>\n",
              "      <td>7500.000000</td>\n",
              "    </tr>\n",
              "    <tr>\n",
              "      <th>mean</th>\n",
              "      <td>4.254933</td>\n",
              "      <td>60.095822</td>\n",
              "      <td>4.158427</td>\n",
              "      <td>2.946612</td>\n",
              "    </tr>\n",
              "    <tr>\n",
              "      <th>std</th>\n",
              "      <td>0.118029</td>\n",
              "      <td>150.356676</td>\n",
              "      <td>0.535958</td>\n",
              "      <td>0.228037</td>\n",
              "    </tr>\n",
              "    <tr>\n",
              "      <th>min</th>\n",
              "      <td>4.200000</td>\n",
              "      <td>4.990000</td>\n",
              "      <td>2.000000</td>\n",
              "      <td>1.000000</td>\n",
              "    </tr>\n",
              "    <tr>\n",
              "      <th>25%</th>\n",
              "      <td>4.200000</td>\n",
              "      <td>18.900000</td>\n",
              "      <td>4.000000</td>\n",
              "      <td>3.000000</td>\n",
              "    </tr>\n",
              "    <tr>\n",
              "      <th>50%</th>\n",
              "      <td>4.200000</td>\n",
              "      <td>28.530000</td>\n",
              "      <td>4.000000</td>\n",
              "      <td>3.000000</td>\n",
              "    </tr>\n",
              "    <tr>\n",
              "      <th>75%</th>\n",
              "      <td>4.200000</td>\n",
              "      <td>51.350000</td>\n",
              "      <td>4.158427</td>\n",
              "      <td>3.000000</td>\n",
              "    </tr>\n",
              "    <tr>\n",
              "      <th>max</th>\n",
              "      <td>4.900000</td>\n",
              "      <td>3119.080000</td>\n",
              "      <td>5.000000</td>\n",
              "      <td>3.000000</td>\n",
              "    </tr>\n",
              "  </tbody>\n",
              "</table>\n",
              "</div>\n",
              "    <div class=\"colab-df-buttons\">\n",
              "\n",
              "  <div class=\"colab-df-container\">\n",
              "    <button class=\"colab-df-convert\" onclick=\"convertToInteractive('df-1065de6e-02e0-4d3e-9114-a1640049f053')\"\n",
              "            title=\"Convert this dataframe to an interactive table.\"\n",
              "            style=\"display:none;\">\n",
              "\n",
              "  <svg xmlns=\"http://www.w3.org/2000/svg\" height=\"24px\" viewBox=\"0 -960 960 960\">\n",
              "    <path d=\"M120-120v-720h720v720H120Zm60-500h600v-160H180v160Zm220 220h160v-160H400v160Zm0 220h160v-160H400v160ZM180-400h160v-160H180v160Zm440 0h160v-160H620v160ZM180-180h160v-160H180v160Zm440 0h160v-160H620v160Z\"/>\n",
              "  </svg>\n",
              "    </button>\n",
              "\n",
              "  <style>\n",
              "    .colab-df-container {\n",
              "      display:flex;\n",
              "      gap: 12px;\n",
              "    }\n",
              "\n",
              "    .colab-df-convert {\n",
              "      background-color: #E8F0FE;\n",
              "      border: none;\n",
              "      border-radius: 50%;\n",
              "      cursor: pointer;\n",
              "      display: none;\n",
              "      fill: #1967D2;\n",
              "      height: 32px;\n",
              "      padding: 0 0 0 0;\n",
              "      width: 32px;\n",
              "    }\n",
              "\n",
              "    .colab-df-convert:hover {\n",
              "      background-color: #E2EBFA;\n",
              "      box-shadow: 0px 1px 2px rgba(60, 64, 67, 0.3), 0px 1px 3px 1px rgba(60, 64, 67, 0.15);\n",
              "      fill: #174EA6;\n",
              "    }\n",
              "\n",
              "    .colab-df-buttons div {\n",
              "      margin-bottom: 4px;\n",
              "    }\n",
              "\n",
              "    [theme=dark] .colab-df-convert {\n",
              "      background-color: #3B4455;\n",
              "      fill: #D2E3FC;\n",
              "    }\n",
              "\n",
              "    [theme=dark] .colab-df-convert:hover {\n",
              "      background-color: #434B5C;\n",
              "      box-shadow: 0px 1px 3px 1px rgba(0, 0, 0, 0.15);\n",
              "      filter: drop-shadow(0px 1px 2px rgba(0, 0, 0, 0.3));\n",
              "      fill: #FFFFFF;\n",
              "    }\n",
              "  </style>\n",
              "\n",
              "    <script>\n",
              "      const buttonEl =\n",
              "        document.querySelector('#df-1065de6e-02e0-4d3e-9114-a1640049f053 button.colab-df-convert');\n",
              "      buttonEl.style.display =\n",
              "        google.colab.kernel.accessAllowed ? 'block' : 'none';\n",
              "\n",
              "      async function convertToInteractive(key) {\n",
              "        const element = document.querySelector('#df-1065de6e-02e0-4d3e-9114-a1640049f053');\n",
              "        const dataTable =\n",
              "          await google.colab.kernel.invokeFunction('convertToInteractive',\n",
              "                                                    [key], {});\n",
              "        if (!dataTable) return;\n",
              "\n",
              "        const docLinkHtml = 'Like what you see? Visit the ' +\n",
              "          '<a target=\"_blank\" href=https://colab.research.google.com/notebooks/data_table.ipynb>data table notebook</a>'\n",
              "          + ' to learn more about interactive tables.';\n",
              "        element.innerHTML = '';\n",
              "        dataTable['output_type'] = 'display_data';\n",
              "        await google.colab.output.renderOutput(dataTable, element);\n",
              "        const docLink = document.createElement('div');\n",
              "        docLink.innerHTML = docLinkHtml;\n",
              "        element.appendChild(docLink);\n",
              "      }\n",
              "    </script>\n",
              "  </div>\n",
              "\n",
              "\n",
              "<div id=\"df-b7b49f4a-6bff-43c1-b214-f615a3c3e33b\">\n",
              "  <button class=\"colab-df-quickchart\" onclick=\"quickchart('df-b7b49f4a-6bff-43c1-b214-f615a3c3e33b')\"\n",
              "            title=\"Suggest charts.\"\n",
              "            style=\"display:none;\">\n",
              "\n",
              "<svg xmlns=\"http://www.w3.org/2000/svg\" height=\"24px\"viewBox=\"0 0 24 24\"\n",
              "     width=\"24px\">\n",
              "    <g>\n",
              "        <path d=\"M19 3H5c-1.1 0-2 .9-2 2v14c0 1.1.9 2 2 2h14c1.1 0 2-.9 2-2V5c0-1.1-.9-2-2-2zM9 17H7v-7h2v7zm4 0h-2V7h2v10zm4 0h-2v-4h2v4z\"/>\n",
              "    </g>\n",
              "</svg>\n",
              "  </button>\n",
              "\n",
              "<style>\n",
              "  .colab-df-quickchart {\n",
              "      --bg-color: #E8F0FE;\n",
              "      --fill-color: #1967D2;\n",
              "      --hover-bg-color: #E2EBFA;\n",
              "      --hover-fill-color: #174EA6;\n",
              "      --disabled-fill-color: #AAA;\n",
              "      --disabled-bg-color: #DDD;\n",
              "  }\n",
              "\n",
              "  [theme=dark] .colab-df-quickchart {\n",
              "      --bg-color: #3B4455;\n",
              "      --fill-color: #D2E3FC;\n",
              "      --hover-bg-color: #434B5C;\n",
              "      --hover-fill-color: #FFFFFF;\n",
              "      --disabled-bg-color: #3B4455;\n",
              "      --disabled-fill-color: #666;\n",
              "  }\n",
              "\n",
              "  .colab-df-quickchart {\n",
              "    background-color: var(--bg-color);\n",
              "    border: none;\n",
              "    border-radius: 50%;\n",
              "    cursor: pointer;\n",
              "    display: none;\n",
              "    fill: var(--fill-color);\n",
              "    height: 32px;\n",
              "    padding: 0;\n",
              "    width: 32px;\n",
              "  }\n",
              "\n",
              "  .colab-df-quickchart:hover {\n",
              "    background-color: var(--hover-bg-color);\n",
              "    box-shadow: 0 1px 2px rgba(60, 64, 67, 0.3), 0 1px 3px 1px rgba(60, 64, 67, 0.15);\n",
              "    fill: var(--button-hover-fill-color);\n",
              "  }\n",
              "\n",
              "  .colab-df-quickchart-complete:disabled,\n",
              "  .colab-df-quickchart-complete:disabled:hover {\n",
              "    background-color: var(--disabled-bg-color);\n",
              "    fill: var(--disabled-fill-color);\n",
              "    box-shadow: none;\n",
              "  }\n",
              "\n",
              "  .colab-df-spinner {\n",
              "    border: 2px solid var(--fill-color);\n",
              "    border-color: transparent;\n",
              "    border-bottom-color: var(--fill-color);\n",
              "    animation:\n",
              "      spin 1s steps(1) infinite;\n",
              "  }\n",
              "\n",
              "  @keyframes spin {\n",
              "    0% {\n",
              "      border-color: transparent;\n",
              "      border-bottom-color: var(--fill-color);\n",
              "      border-left-color: var(--fill-color);\n",
              "    }\n",
              "    20% {\n",
              "      border-color: transparent;\n",
              "      border-left-color: var(--fill-color);\n",
              "      border-top-color: var(--fill-color);\n",
              "    }\n",
              "    30% {\n",
              "      border-color: transparent;\n",
              "      border-left-color: var(--fill-color);\n",
              "      border-top-color: var(--fill-color);\n",
              "      border-right-color: var(--fill-color);\n",
              "    }\n",
              "    40% {\n",
              "      border-color: transparent;\n",
              "      border-right-color: var(--fill-color);\n",
              "      border-top-color: var(--fill-color);\n",
              "    }\n",
              "    60% {\n",
              "      border-color: transparent;\n",
              "      border-right-color: var(--fill-color);\n",
              "    }\n",
              "    80% {\n",
              "      border-color: transparent;\n",
              "      border-right-color: var(--fill-color);\n",
              "      border-bottom-color: var(--fill-color);\n",
              "    }\n",
              "    90% {\n",
              "      border-color: transparent;\n",
              "      border-bottom-color: var(--fill-color);\n",
              "    }\n",
              "  }\n",
              "</style>\n",
              "\n",
              "  <script>\n",
              "    async function quickchart(key) {\n",
              "      const quickchartButtonEl =\n",
              "        document.querySelector('#' + key + ' button');\n",
              "      quickchartButtonEl.disabled = true;  // To prevent multiple clicks.\n",
              "      quickchartButtonEl.classList.add('colab-df-spinner');\n",
              "      try {\n",
              "        const charts = await google.colab.kernel.invokeFunction(\n",
              "            'suggestCharts', [key], {});\n",
              "      } catch (error) {\n",
              "        console.error('Error during call to suggestCharts:', error);\n",
              "      }\n",
              "      quickchartButtonEl.classList.remove('colab-df-spinner');\n",
              "      quickchartButtonEl.classList.add('colab-df-quickchart-complete');\n",
              "    }\n",
              "    (() => {\n",
              "      let quickchartButtonEl =\n",
              "        document.querySelector('#df-b7b49f4a-6bff-43c1-b214-f615a3c3e33b button');\n",
              "      quickchartButtonEl.style.display =\n",
              "        google.colab.kernel.accessAllowed ? 'block' : 'none';\n",
              "    })();\n",
              "  </script>\n",
              "</div>\n",
              "    </div>\n",
              "  </div>\n"
            ]
          },
          "metadata": {},
          "execution_count": 233
        }
      ]
    },
    {
      "cell_type": "code",
      "source": [
        "# Find the mode of the \"year\" column (excluding 'N.V.')\n",
        "mode_year = ml_df[ml_df['year'] != 'N.V.']['year'].mode()[0]\n",
        "\n",
        "# Replace 'N.V.' with the mode value using .loc\n",
        "ml_df.loc[ml_df['year'] == 'N.V.', 'year'] = mode_year\n"
      ],
      "metadata": {
        "id": "dXIdhKnHlIvN"
      },
      "execution_count": 238,
      "outputs": []
    },
    {
      "cell_type": "code",
      "source": [
        "ml_df.info()"
      ],
      "metadata": {
        "id": "2TWBmWNb4X-D",
        "outputId": "c63a9a57-6d25-4d47-eb53-e8a81e18d8db",
        "colab": {
          "base_uri": "https://localhost:8080/"
        }
      },
      "execution_count": 239,
      "outputs": [
        {
          "output_type": "stream",
          "name": "stdout",
          "text": [
            "<class 'pandas.core.frame.DataFrame'>\n",
            "RangeIndex: 7500 entries, 0 to 7499\n",
            "Data columns (total 9 columns):\n",
            " #   Column   Non-Null Count  Dtype  \n",
            "---  ------   --------------  -----  \n",
            " 0   winery   7500 non-null   object \n",
            " 1   wine     7500 non-null   object \n",
            " 2   year     7500 non-null   object \n",
            " 3   rating   7500 non-null   float64\n",
            " 4   region   7500 non-null   object \n",
            " 5   price    7500 non-null   float64\n",
            " 6   type     7500 non-null   object \n",
            " 7   body     7500 non-null   float64\n",
            " 8   acidity  7500 non-null   float64\n",
            "dtypes: float64(4), object(5)\n",
            "memory usage: 527.5+ KB\n"
          ]
        }
      ]
    },
    {
      "cell_type": "code",
      "source": [
        "# Load your dataset (assuming you have it in a DataFrame)\n",
        "# Replace 'data' and 'target' with your features and target variable\n",
        "X = ml_df[['year', 'region', 'price', 'type', 'body', 'acidity']]\n",
        "y = ml_df['rating']\n",
        "\n",
        "# Data preprocessing: Encode categorical variables\n",
        "X = pd.get_dummies(X)\n",
        "\n",
        "# Split the data into training and test sets\n",
        "X_train, X_test, y_train, y_test = train_test_split(X, y, test_size=0.2, random_state=42)\n",
        "\n",
        "# Model 1: Random Forest\n",
        "rf_model = RandomForestRegressor(random_state=42)\n",
        "\n",
        "# Hyperparameter tuning for Random Forest\n",
        "rf_param_grid = {\n",
        "    'n_estimators': [100, 200, 300],\n",
        "    'max_depth': [None, 10, 20, 30],\n",
        "    'min_samples_split': [2, 5, 10],\n",
        "    'min_samples_leaf': [1, 2, 4]\n",
        "}\n",
        "\n",
        "rf_grid_search = GridSearchCV(rf_model, rf_param_grid, cv=5, n_jobs=-1)\n",
        "rf_grid_search.fit(X_train, y_train)\n",
        "\n",
        "# Get the best-tuned Random Forest model\n",
        "best_rf_model = rf_grid_search.best_estimator_\n",
        "\n",
        "# Model 2: Gradient Boosting\n",
        "gb_model = GradientBoostingRegressor(random_state=42)\n",
        "\n",
        "# Hyperparameter tuning for Gradient Boosting\n",
        "gb_param_grid = {\n",
        "    'n_estimators': [100, 200, 300],\n",
        "    'learning_rate': [0.01, 0.1, 0.2],\n",
        "    'max_depth': [3, 4, 5]\n",
        "}\n",
        "\n",
        "gb_grid_search = GridSearchCV(gb_model, gb_param_grid, cv=5, n_jobs=-1)\n",
        "gb_grid_search.fit(X_train, y_train)\n",
        "\n",
        "# Get the best-tuned Gradient Boosting model\n",
        "best_gb_model = gb_grid_search.best_estimator_\n",
        "\n",
        "# Evaluate models on both train and test data\n",
        "def evaluate_model(model, X_train, y_train, X_test, y_test):\n",
        "    train_pred = model.predict(X_train)\n",
        "    test_pred = model.predict(X_test)\n",
        "\n",
        "    train_rmse = mean_squared_error(y_train, train_pred, squared=False)\n",
        "    test_rmse = mean_squared_error(y_test, test_pred, squared=False)\n",
        "\n",
        "    train_r2 = r2_score(y_train, train_pred)\n",
        "    test_r2 = r2_score(y_test, test_pred)\n",
        "\n",
        "    train_mae = mean_absolute_error(y_train, train_pred)\n",
        "    test_mae = mean_absolute_error(y_test, test_pred)\n",
        "\n",
        "    return {\n",
        "        'Train RMSE': train_rmse,\n",
        "        'Test RMSE': test_rmse,\n",
        "        'Train R-squared': train_r2,\n",
        "        'Test R-squared': test_r2,\n",
        "        'Train MAE': train_mae,\n",
        "        'Test MAE': test_mae\n",
        "    }\n",
        "\n",
        "# Evaluate and display metrics for the best-tuned models\n",
        "rf_metrics = evaluate_model(best_rf_model, X_train, y_train, X_test, y_test)\n",
        "gb_metrics = evaluate_model(best_gb_model, X_train, y_train, X_test, y_test)\n",
        "\n",
        "print(\"Random Forest Metrics:\")\n",
        "for metric, value in rf_metrics.items():\n",
        "    print(f\"{metric}: {value}\")\n",
        "\n",
        "print(\"\\nGradient Boosting Metrics:\")\n",
        "for metric, value in gb_metrics.items():\n",
        "    print(f\"{metric}: {value}\")"
      ],
      "metadata": {
        "id": "ehSZvzvNyusN",
        "outputId": "b3a9720a-3930-44ee-cbb0-2005053ab961",
        "colab": {
          "base_uri": "https://localhost:8080/"
        }
      },
      "execution_count": 244,
      "outputs": [
        {
          "output_type": "stream",
          "name": "stdout",
          "text": [
            "Random Forest Metrics:\n",
            "Train RMSE: 0.03797566075240148\n",
            "Test RMSE: 0.05721386748901688\n",
            "Train R-squared: 0.8940077132296835\n",
            "Test R-squared: 0.7845100992289026\n",
            "Train MAE: 0.015370887237367147\n",
            "Test MAE: 0.024500774284228765\n",
            "\n",
            "Gradient Boosting Metrics:\n",
            "Train RMSE: 0.03404873377146451\n",
            "Test RMSE: 0.06058372238463666\n",
            "Train R-squared: 0.914794914731817\n",
            "Test R-squared: 0.7583781434091332\n",
            "Train MAE: 0.015825032027206306\n",
            "Test MAE: 0.027890481639674298\n"
          ]
        }
      ]
    },
    {
      "cell_type": "markdown",
      "source": [
        "#Feature Engineering Techniques:"
      ],
      "metadata": {
        "id": "m7HNjptcafPR"
      }
    },
    {
      "cell_type": "code",
      "source": [
        "#Scale Data\n",
        "scaler = StandardScaler()\n",
        "ml_df[['year', 'price', 'body', 'acidity']] = scaler.fit_transform(ml_df[['year', 'price', 'body', 'acidity']])"
      ],
      "metadata": {
        "id": "tzfIOw7nabMW"
      },
      "execution_count": 247,
      "outputs": []
    },
    {
      "cell_type": "code",
      "source": [
        "#Feature Interactions:\n",
        "ml_df['price_acidity_interaction'] = ml_df['price'] * ml_df['acidity']\n",
        "#Binning:\n",
        "ml_df['price_bin'] = pd.cut(ml_df['price'], bins=[0, 10, 20, 30], labels=['low', 'medium', 'high'])\n",
        "#Feature Encoding:\n",
        "ml_df = pd.get_dummies(ml_df, columns=['region', 'type'])\n"
      ],
      "metadata": {
        "id": "FTF1PbCZabH4"
      },
      "execution_count": 248,
      "outputs": []
    },
    {
      "cell_type": "code",
      "source": [
        "# Encode the 'price_bin' column using one-hot encoding\n",
        "encoder = OneHotEncoder(sparse=False)\n",
        "price_bin_encoded = encoder.fit_transform(ml_df[['price_bin']])\n",
        "\n",
        "# Convert the one-hot encoded values to a DataFrame and merge it back to the original DataFrame\n",
        "price_bin_encoded_df = pd.DataFrame(price_bin_encoded, columns=encoder.get_feature_names_out(['price_bin']))\n",
        "df = pd.concat([ml_df, price_bin_encoded_df], axis=1)\n",
        "\n",
        "# Convert the one-hot encoded values to a DataFrame\n",
        "price_bin_encoded_df = pd.DataFrame(price_bin_encoded, columns=encoder.get_feature_names_out(['price_bin']))\n",
        "\n",
        "# Reset the index of the DataFrame to match the number of rows in the one-hot encoded DataFrame\n",
        "ml_df.reset_index(drop=True, inplace=True)\n",
        "\n",
        "# Concatenate the one-hot encoded DataFrame with the original DataFrame\n",
        "ml_df = pd.concat([ml_df, price_bin_encoded_df], axis=1)\n",
        "\n",
        "# Drop the original 'price_bin' column\n",
        "ml_df.drop(columns=['price_bin'], inplace=True)"
      ],
      "metadata": {
        "id": "1TsGArEfb8cN",
        "outputId": "b204d888-71e8-416c-e0cb-2f47327ee43f",
        "colab": {
          "base_uri": "https://localhost:8080/"
        }
      },
      "execution_count": 258,
      "outputs": [
        {
          "output_type": "stream",
          "name": "stderr",
          "text": [
            "/usr/local/lib/python3.10/dist-packages/sklearn/preprocessing/_encoders.py:868: FutureWarning:\n",
            "\n",
            "`sparse` was renamed to `sparse_output` in version 1.2 and will be removed in 1.4. `sparse_output` is ignored unless you leave `sparse` to its default value.\n",
            "\n"
          ]
        }
      ]
    },
    {
      "cell_type": "markdown",
      "source": [
        "#PCA"
      ],
      "metadata": {
        "id": "aIWDaehYjE3f"
      }
    },
    {
      "cell_type": "code",
      "source": [
        "#PCA\n",
        "# Select the features for PCA\n",
        "X = ml_df.drop(columns=['winery', 'wine', 'rating'])\n",
        "\n",
        "# Apply PCA with a specified number of components\n",
        "n_components = 5\n",
        "pca = PCA(n_components=n_components)\n",
        "X_pca = pca.fit_transform(X)\n",
        "\n",
        "# Create a new DataFrame with PCA components\n",
        "pca_df = pd.DataFrame(data=X_pca, columns=[f'PC{i}' for i in range(1, n_components + 1)])\n",
        "\n",
        "# Add PCA components to the original DataFrame\n",
        "ml_df = pd.concat([ml_df[['winery', 'wine', 'rating']], pca_df], axis=1)\n"
      ],
      "metadata": {
        "id": "JwEc4DPNabCE"
      },
      "execution_count": 260,
      "outputs": []
    },
    {
      "cell_type": "code",
      "source": [
        "ml_df.info()\n"
      ],
      "metadata": {
        "id": "YdEhrtf-iJPQ",
        "outputId": "43c407b6-6fba-4f32-c3bf-c272c7a5c1b5",
        "colab": {
          "base_uri": "https://localhost:8080/"
        }
      },
      "execution_count": 270,
      "outputs": [
        {
          "output_type": "stream",
          "name": "stdout",
          "text": [
            "<class 'pandas.core.frame.DataFrame'>\n",
            "RangeIndex: 7500 entries, 0 to 7499\n",
            "Data columns (total 8 columns):\n",
            " #   Column  Non-Null Count  Dtype  \n",
            "---  ------  --------------  -----  \n",
            " 0   winery  7500 non-null   object \n",
            " 1   wine    7500 non-null   object \n",
            " 2   rating  7500 non-null   float64\n",
            " 3   PC1     7500 non-null   float64\n",
            " 4   PC2     7500 non-null   float64\n",
            " 5   PC3     7500 non-null   float64\n",
            " 6   PC4     7500 non-null   float64\n",
            " 7   PC5     7500 non-null   float64\n",
            "dtypes: float64(6), object(2)\n",
            "memory usage: 468.9+ KB\n"
          ]
        }
      ]
    },
    {
      "cell_type": "code",
      "source": [
        "# Load your dataset (assuming you have it in a DataFrame)\n",
        "# Replace 'data' and 'target' with your features and target variable\n",
        "X = ml_df[['winery', 'wine', 'PC1', 'PC2', 'PC3', 'PC4','PC5']]\n",
        "y = ml_df['rating']\n",
        "\n",
        "# Data preprocessing: Encode categorical variables\n",
        "X = pd.get_dummies(X)\n",
        "\n",
        "# Split the data into training and test sets\n",
        "X_train, X_test, y_train, y_test = train_test_split(X, y, test_size=0.2, random_state=42)\n",
        "\n",
        "# Model 1: Random Forest\n",
        "rf_model = RandomForestRegressor(random_state=42)\n",
        "\n",
        "# Hyperparameter tuning for Random Forest\n",
        "rf_param_grid = {\n",
        "    'n_estimators': [100, 200, 300],\n",
        "    'max_depth': [None, 10, 20, 30],\n",
        "    'min_samples_split': [2, 5, 10],\n",
        "    'min_samples_leaf': [1, 2, 4]\n",
        "}\n",
        "\n",
        "rf_grid_search = GridSearchCV(rf_model, rf_param_grid, cv=5, n_jobs=-1)\n",
        "rf_grid_search.fit(X_train, y_train)\n",
        "\n",
        "# Get the best-tuned Random Forest model\n",
        "best_rf_model = rf_grid_search.best_estimator_\n",
        "\n",
        "# Model 2: Gradient Boosting\n",
        "gb_model = GradientBoostingRegressor(random_state=42)\n",
        "\n",
        "# Hyperparameter tuning for Gradient Boosting\n",
        "gb_param_grid = {\n",
        "    'n_estimators': [100, 200, 300],\n",
        "    'learning_rate': [0.01, 0.1, 0.2],\n",
        "    'max_depth': [3, 4, 5]\n",
        "}\n",
        "\n",
        "gb_grid_search = GridSearchCV(gb_model, gb_param_grid, cv=5, n_jobs=-1)\n",
        "gb_grid_search.fit(X_train, y_train)\n",
        "\n",
        "# Get the best-tuned Gradient Boosting model\n",
        "best_gb_model = gb_grid_search.best_estimator_\n",
        "\n",
        "# Evaluate models on both train and test data\n",
        "def evaluate_model(model, X_train, y_train, X_test, y_test):\n",
        "    train_pred = model.predict(X_train)\n",
        "    test_pred = model.predict(X_test)\n",
        "\n",
        "    train_rmse = mean_squared_error(y_train, train_pred, squared=False)\n",
        "    test_rmse = mean_squared_error(y_test, test_pred, squared=False)\n",
        "\n",
        "    train_r2 = r2_score(y_train, train_pred)\n",
        "    test_r2 = r2_score(y_test, test_pred)\n",
        "\n",
        "    train_mae = mean_absolute_error(y_train, train_pred)\n",
        "    test_mae = mean_absolute_error(y_test, test_pred)\n",
        "\n",
        "    return {\n",
        "        'Train RMSE': train_rmse,\n",
        "        'Test RMSE': test_rmse,\n",
        "        'Train R-squared': train_r2,\n",
        "        'Test R-squared': test_r2,\n",
        "        'Train MAE': train_mae,\n",
        "        'Test MAE': test_mae\n",
        "    }\n",
        "\n",
        "# Evaluate and display metrics for the best-tuned models\n",
        "rf_metrics = evaluate_model(best_rf_model, X_train, y_train, X_test, y_test)\n",
        "gb_metrics = evaluate_model(best_gb_model, X_train, y_train, X_test, y_test)\n",
        "\n",
        "print(\"Random Forest Metrics:\")\n",
        "for metric, value in rf_metrics.items():\n",
        "    print(f\"{metric}: {value}\")\n",
        "\n",
        "print(\"\\nGradient Boosting Metrics:\")\n",
        "for metric, value in gb_metrics.items():\n",
        "    print(f\"{metric}: {value}\")"
      ],
      "metadata": {
        "id": "Mh5sPgmZaatQ",
        "outputId": "b85e5cf9-81ec-4435-b496-30d2aa2250ff",
        "colab": {
          "base_uri": "https://localhost:8080/"
        }
      },
      "execution_count": 271,
      "outputs": [
        {
          "output_type": "stream",
          "name": "stdout",
          "text": [
            "Random Forest Metrics:\n",
            "Train RMSE: 0.03423366017668426\n",
            "Test RMSE: 0.054638029037628856\n",
            "Train R-squared: 0.9138668649982824\n",
            "Test R-squared: 0.8034765594188712\n",
            "Train MAE: 0.013693875089976305\n",
            "Test MAE: 0.023554560182472994\n",
            "\n",
            "Gradient Boosting Metrics:\n",
            "Train RMSE: 0.02472279977784137\n",
            "Test RMSE: 0.0539274271975366\n",
            "Train R-squared: 0.9550780202927128\n",
            "Test R-squared: 0.8085551394316662\n",
            "Train MAE: 0.012919412548421908\n",
            "Test MAE: 0.02523850632725548\n"
          ]
        }
      ]
    },
    {
      "cell_type": "markdown",
      "source": [
        "#Second choice: Cirrhosis Prediction Dataset"
      ],
      "metadata": {
        "id": "r_W4OcpqO18o"
      }
    },
    {
      "cell_type": "markdown",
      "source": [
        "# Cirrhosis Prediction Dataset\n",
        "\n",
        "## Source of Data\n",
        "\n",
        "- [Kaggle - Cirrhosis Prediction Dataset](https://www.kaggle.com/datasets/fedesoriano/cirrhosis-prediction-dataset)\n",
        "\n",
        "## Brief Description of Data\n",
        "\n",
        "Cirrhosis is a late stage of scarring (fibrosis) of the liver caused by many forms of liver diseases and conditions, such as hepatitis and chronic alcoholism. The following data contains the information collected from the Mayo Clinic trial in primary biliary cirrhosis (PBC) of the liver conducted between 1974 and 1984. A description of the clinical background for the trial and the covariates recorded here is in Chapter 0, especially Section 0.2 of Fleming and Harrington, Counting\n",
        "Processes and Survival Analysis, Wiley, 1991. A more extended discussion can be found in Dickson, et al., Hepatology 10:1-7 (1989) and in Markus, et al., N Eng J of Med 320:1709-13 (1989).\n",
        "\n",
        "A total of 424 PBC patients, referred to Mayo Clinic during that ten-year interval, met eligibility criteria for the randomized placebo-controlled trial of the drug D-penicillamine. The first 312 cases in the dataset participated in the randomized trial and contain largely complete data. The additional 112 cases did not participate in the clinical trial but consented to have basic measurements recorded and to be followed for survival. Six of those cases were lost to follow-up shortly after diagnosis, so the data here are on an additional 106 cases as well as the 312 randomized participants.\n",
        "\n",
        "## Dataset Details\n",
        "\n",
        "- **Target:** `Stage`\n",
        "- **One Row Represents:** A Person\n",
        "- **Number of Features:** 5\n",
        "- **Number of Rows:** 480\n",
        "\n",
        "## Challenges and Considerations\n",
        "\n",
        "Based on the provided information about the dataset, there are several potential challenges that could arise during the processes of cleaning, exploring, and modeling:\n",
        "\n",
        "- **Missing Data:** The dataset contains missing values in multiple columns, such as 'Drug', 'Cholesterol', 'Copper', 'Tryglicerides', 'Platelets', 'Prothrombin', and 'Stage'. Addressing missing data is crucial, as improper handling can lead to biased analysis and modeling results.\n",
        "\n",
        "- **Categorical Data:** The presence of categorical variables, including 'Status', 'Drug', 'Sex', 'Ascites', 'Hepatomegaly', 'Spiders', and 'Edema', requires appropriate encoding or transformation for analysis and modeling. Handling categorical data effectively is essential for accurate predictions.\n",
        "\n",
        "- **Feature Engineering:** Depending on the modeling goals, creating new features from existing attributes might be necessary to improve model performance. However, the challenge lies in identifying which new features are relevant and informative.\n",
        "\n",
        "- **Imbalanced Data:** If the distribution of the 'Status' column (indicating disease presence or absence) is imbalanced, where one class significantly outweighs the other, it can impact the predictive accuracy of the model. Balancing techniques such as oversampling or undersampling may be needed.\n",
        "\n",
        "- **Model Selection:** Selecting the appropriate algorithm for modeling liver disease prediction is essential. Different algorithms have different strengths and weaknesses, and selecting the wrong one could lead to suboptimal results.\n",
        "\n",
        "- **Hyperparameter Tuning:** Optimizing model performance through hyperparameter tuning can be challenging and time-consuming. Proper tuning is required to achieve the best predictive outcomes.\n",
        "\n",
        "- **Interpreting Results:** Interpreting the results of the models, especially in the medical context of liver disease, can be complex. Understanding the significance of different attributes in contributing to disease prediction is important for informed decision-making.\n",
        "\n",
        "- **Limited Sample Size:** The dataset consists of only 418 entries, which might limit the generalizability of the models. Ensuring that the models do not overfit due to the limited sample size is crucial.\n",
        "\n",
        "- **Data Exploration:** Exploring and visualizing the distribution of attributes, relationships, and potential outliers can be time-consuming. However, it is essential for gaining insights and making informed decisions.\n",
        "\n",
        "- **Ethical Considerations:** Given that the dataset involves medical information, ensuring ethical handling of sensitive patient data and adhering to data privacy regulations is critical.\n",
        "\n",
        "Addressing these challenges will require a comprehensive and well-structured approach to data cleaning, exploration, and modeling. Each challenge necessitates careful consideration and domain expertise to ensure accurate and reliable results.\n"
      ],
      "metadata": {
        "id": "qyuBcpEePNeb"
      }
    },
    {
      "cell_type": "code",
      "source": [
        "df2 = pd.read_csv('/content/drive/MyDrive/CodingDojo/02-MachineLearning/Week08/Data/cirrhosis.csv')\n",
        "df2.head()"
      ],
      "metadata": {
        "id": "j7MAoOv5JD17"
      },
      "execution_count": null,
      "outputs": []
    },
    {
      "cell_type": "code",
      "source": [
        "df2.info()"
      ],
      "metadata": {
        "id": "zdWAGECjPmrG"
      },
      "execution_count": null,
      "outputs": []
    },
    {
      "cell_type": "code",
      "source": [
        "#Makeing A Copy\n",
        "ml_df2 = df2.copy()"
      ],
      "metadata": {
        "id": "Vx5PEzwaQb-7"
      },
      "execution_count": null,
      "outputs": []
    },
    {
      "cell_type": "code",
      "source": [
        "# drop unused columns\n",
        "colsdrop = ['ID']\n",
        "ml_df2 = ml_df2.drop(colsdrop, axis=1)"
      ],
      "metadata": {
        "id": "BQI8czfTilxF"
      },
      "execution_count": null,
      "outputs": []
    },
    {
      "cell_type": "code",
      "source": [
        "#check inconsistancies and duplicates\n",
        "inconsistencies = ml_df2.isnull().sum()\n",
        "print(\"\\nInconsistencies (Missing Values):\")\n",
        "print(inconsistencies)\n",
        "\n",
        "duplicates = ml_df2[ml_df2.duplicated()]\n",
        "print(\"Duplicates:\")\n",
        "print(duplicates)"
      ],
      "metadata": {
        "id": "ulVu7YknTMS9"
      },
      "execution_count": null,
      "outputs": []
    },
    {
      "cell_type": "code",
      "source": [
        "# Check for duplicate rows in the DataFrame\n",
        "duplicates = ml_df2.duplicated()\n",
        "\n",
        "# Display the duplicate rows, if any\n",
        "if not duplicates.empty:\n",
        "    print(\"Duplicate Rows:\")\n",
        "    print(duplicates)\n",
        "else:\n",
        "    print(\"No duplicate rows found.\")"
      ],
      "metadata": {
        "id": "9QL5uZ33TeSD"
      },
      "execution_count": null,
      "outputs": []
    },
    {
      "cell_type": "code",
      "source": [
        "# Remove duplicate rows from the DataFrame\n",
        "ml_df_cleaned2 = ml_df2.drop_duplicates()"
      ],
      "metadata": {
        "id": "V9c-4SsMTmzs"
      },
      "execution_count": null,
      "outputs": []
    },
    {
      "cell_type": "code",
      "source": [
        "ml_df_cleaned2.info()"
      ],
      "metadata": {
        "id": "PNv6mBoFUHmj"
      },
      "execution_count": null,
      "outputs": []
    },
    {
      "cell_type": "code",
      "source": [
        "# Impute missing values in categorical columns with mode\n",
        "categorical_columns = ['Drug','Ascites', 'Hepatomegaly', 'Spiders']\n",
        "ml_df_cleaned2[categorical_columns] = ml_df_cleaned2[categorical_columns].fillna(ml_df_cleaned2[categorical_columns].mode().iloc[0])"
      ],
      "metadata": {
        "id": "uH5qDzvqUKHJ"
      },
      "execution_count": null,
      "outputs": []
    },
    {
      "cell_type": "code",
      "source": [
        "# Impute missing values in numeric columns with median\n",
        "numeric_columns = ['Cholesterol', 'Copper', 'Alk_Phos', 'SGOT', 'Tryglicerides', 'Platelets', 'Prothrombin', 'Stage']\n",
        "ml_df_cleaned2[numeric_columns] = ml_df_cleaned2[numeric_columns].fillna(ml_df_cleaned2[numeric_columns].mean())"
      ],
      "metadata": {
        "id": "xLDKvlYwed0k"
      },
      "execution_count": null,
      "outputs": []
    },
    {
      "cell_type": "code",
      "source": [
        "#Ensure data types match the data types listed in the data dictionary.\n",
        "for col in ml_df_cleaned2:\n",
        "    print(ml_df_cleaned2[col].value_counts(ascending=False), '\\n\\n\\n')"
      ],
      "metadata": {
        "id": "8UTxjSqkelvb"
      },
      "execution_count": null,
      "outputs": []
    },
    {
      "cell_type": "code",
      "source": [
        "ml_df_cleaned2.describe()"
      ],
      "metadata": {
        "id": "C8eJVpdxfvQ4"
      },
      "execution_count": null,
      "outputs": []
    },
    {
      "cell_type": "code",
      "source": [
        "#Box Plot and Distribution Plot for Dependent variable weight\n",
        "plt.figure(figsize=(20,3))\n",
        "\n",
        "plt.subplot(1,2,1)\n",
        "sns.boxplot(ml_df_cleaned2.Stage,color='red')\n",
        "plt.title('Box Plot of Stage')\n",
        "\n",
        "plt.subplot(1,2,2)\n",
        "sns.distplot(a=ml_df_cleaned2.Stage,color='green')\n",
        "plt.title('Distribution Plot of Stage')\n",
        "plt.show()"
      ],
      "metadata": {
        "id": "hWkYn_OSiDdh"
      },
      "execution_count": null,
      "outputs": []
    },
    {
      "cell_type": "code",
      "source": [
        "#Plot the Outliers\n",
        "px.box(\n",
        "    data_frame= ml_df_cleaned2[{'Cholesterol', 'Copper', 'Alk_Phos', 'SGOT', 'Tryglicerides', 'Platelets', 'Prothrombin'}].melt(),\n",
        "    y= 'value',\n",
        "    facet_col= 'variable',\n",
        "    color= 'variable',\n",
        "    template= 'ggplot2',\n",
        "    title= \"Boxplots for Outlier Detection\"\n",
        ").for_each_annotation(lambda a: a.update(text=a.text.split(\"=\")[-1])).show()"
      ],
      "metadata": {
        "id": "d-97JKWIkctM"
      },
      "execution_count": null,
      "outputs": []
    },
    {
      "cell_type": "code",
      "source": [
        "#Identifying any moderate or strong correlations between your target\n",
        "plt.figure(figsize=(10, 10))\n",
        "sns.heatmap(ml_df_cleaned2.corr(), annot=True, cmap=\"mako\", annot_kws={\"size\":10})"
      ],
      "metadata": {
        "id": "aJEDelSiwoRE"
      },
      "execution_count": null,
      "outputs": []
    },
    {
      "cell_type": "code",
      "source": [
        "# Group data by stage and calculate the count of individuals in each stage\n",
        "stage_counts = ml_df_cleaned2['Stage'].value_counts()\n",
        "\n",
        "# Create a bar plot\n",
        "plt.figure(figsize=(10, 6))\n",
        "sns.barplot(x=stage_counts.index, y=stage_counts.values, palette='viridis')\n",
        "plt.xlabel('Stage')\n",
        "plt.ylabel('Count')\n",
        "plt.title('Age Distribution by Stage')\n",
        "plt.show()"
      ],
      "metadata": {
        "id": "JBUBvgOJgpYJ"
      },
      "execution_count": null,
      "outputs": []
    },
    {
      "cell_type": "code",
      "source": [
        "# Create a scatter plot\n",
        "plt.figure(figsize=(8, 6))\n",
        "sns.scatterplot(x='Bilirubin', y='Cholesterol', data=ml_df_cleaned2, alpha=0.7, palette='coolwarm')\n",
        "plt.xlabel('Bilirubin')\n",
        "plt.ylabel('Cholesterol')\n",
        "plt.title('Bilirubin Levels by Cholesterol')\n",
        "plt.show()"
      ],
      "metadata": {
        "id": "Fnooo4Eyl-Yl"
      },
      "execution_count": null,
      "outputs": []
    },
    {
      "cell_type": "code",
      "source": [
        "ml_df_cleaned2.head()"
      ],
      "metadata": {
        "id": "eSkPwDn4iGLC"
      },
      "execution_count": null,
      "outputs": []
    },
    {
      "cell_type": "markdown",
      "source": [
        "**Visualization 1: Distribution of Individuals by Medical Condition Stage (Bar Chart)**\n",
        "\n",
        "**Insight:** This bar chart provides an overview of the distribution of individuals across different stages of a medical condition. Each bar represents a specific stage, and the height of the bar represents the count of individuals in that stage. The chart clearly shows that the majority of individuals fall into the stage labeled \"3,\" indicating that this is the most common stage among the sampled individuals. Additionally, it reveals the relative proportions of individuals in each stage, which can be valuable for understanding the prevalence of different stages within the dataset.\n",
        "\n",
        "**Visualization 2: Bilirubin Levels by Cholesterol (Scatter Plot)**\n",
        "\n",
        "**Insight:** This scatter plot visualizes the relationship between bilirubin levels (x-axis) and cholesterol levels (y-axis). Each point on the plot represents an individual in the dataset. The plot shows that there is no strong linear correlation between bilirubin and cholesterol levels. The points are scattered across the plot without forming a clear pattern, indicating that these two variables may not have a strong linear relationship. This insight suggests that bilirubin and cholesterol levels are relatively independent of each other, and other factors may influence their values. It's also worth noting that there are some outliers with exceptionally high cholesterol levels, which may warrant further investigation.\n",
        "\n",
        "These insights help us understand the distribution of individuals across medical condition stages and the relationship (or lack thereof) between bilirubin and cholesterol levels within the dataset. They provide valuable information for potential further analysis or decision-making related to the medical condition and patient data.\n"
      ],
      "metadata": {
        "id": "EIY7RP1Pm6a-"
      }
    },
    {
      "cell_type": "code",
      "source": [],
      "metadata": {
        "id": "Z92KKknmmcXl"
      },
      "execution_count": null,
      "outputs": []
    }
  ]
}